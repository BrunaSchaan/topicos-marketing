{
 "cells": [
  {
   "cell_type": "code",
   "execution_count": 1,
   "id": "902a224e",
   "metadata": {},
   "outputs": [],
   "source": [
    "import numpy as np\n",
    "import pandas as pd\n",
    "import matplotlib.pyplot as plt\n",
    "from datetime import timedelta\n",
    "import os\n",
    "\n",
    "%matplotlib inline"
   ]
  },
  {
   "cell_type": "code",
   "execution_count": 2,
   "id": "6e6b2c20",
   "metadata": {},
   "outputs": [],
   "source": [
    "current_directory = os.getcwd()\n",
    "file_path = current_directory + '/csv/anonymous_orders.csv'"
   ]
  },
  {
   "cell_type": "code",
   "execution_count": 3,
   "id": "df713a19",
   "metadata": {},
   "outputs": [],
   "source": [
    "df_orders = pd.read_csv(file_path)"
   ]
  },
  {
   "cell_type": "code",
   "execution_count": 4,
   "id": "99aa52ab",
   "metadata": {},
   "outputs": [
    {
     "data": {
      "text/plain": [
       "(2295, 25)"
      ]
     },
     "execution_count": 4,
     "metadata": {},
     "output_type": "execute_result"
    }
   ],
   "source": [
    "df_orders.shape"
   ]
  },
  {
   "cell_type": "code",
   "execution_count": 5,
   "id": "7e84572a",
   "metadata": {},
   "outputs": [],
   "source": [
    "df_orders = df_orders.drop(columns=['Unnamed: 0'])"
   ]
  },
  {
   "cell_type": "code",
   "execution_count": 6,
   "id": "8e9e4f2b",
   "metadata": {},
   "outputs": [],
   "source": [
    "df_orders['total'] = df_orders['total'] / 100\n",
    "df_orders['subtotal'] = df_orders['subtotal'] / 100"
   ]
  },
  {
   "cell_type": "code",
   "execution_count": 7,
   "id": "513f5217",
   "metadata": {},
   "outputs": [
    {
     "data": {
      "text/html": [
       "<div>\n",
       "<style scoped>\n",
       "    .dataframe tbody tr th:only-of-type {\n",
       "        vertical-align: middle;\n",
       "    }\n",
       "\n",
       "    .dataframe tbody tr th {\n",
       "        vertical-align: top;\n",
       "    }\n",
       "\n",
       "    .dataframe thead th {\n",
       "        text-align: right;\n",
       "    }\n",
       "</style>\n",
       "<table border=\"1\" class=\"dataframe\">\n",
       "  <thead>\n",
       "    <tr style=\"text-align: right;\">\n",
       "      <th></th>\n",
       "      <th>_id</th>\n",
       "      <th>shippingStatus</th>\n",
       "      <th>subtotal</th>\n",
       "      <th>total</th>\n",
       "      <th>products</th>\n",
       "      <th>shippingTotal</th>\n",
       "      <th>user</th>\n",
       "      <th>gatewayStatus</th>\n",
       "      <th>createdAt</th>\n",
       "      <th>updatedAt</th>\n",
       "      <th>...</th>\n",
       "      <th>coupon.code</th>\n",
       "      <th>coupon.seller</th>\n",
       "      <th>coupon.discount</th>\n",
       "      <th>coupon.couponType</th>\n",
       "      <th>weather.main.temp</th>\n",
       "      <th>createdAt Timezone</th>\n",
       "      <th>Sale Hour</th>\n",
       "      <th>weekday-number</th>\n",
       "      <th>weekday</th>\n",
       "      <th>day_month</th>\n",
       "    </tr>\n",
       "  </thead>\n",
       "  <tbody>\n",
       "    <tr>\n",
       "      <th>0</th>\n",
       "      <td>5f7e26f9ca1cb600176e5f01</td>\n",
       "      <td>done</td>\n",
       "      <td>242.0</td>\n",
       "      <td>242.0</td>\n",
       "      <td>[{'selectedVariation': {'color': {'name': 'Pre...</td>\n",
       "      <td>0</td>\n",
       "      <td>5f10b182cdeda100176341bb</td>\n",
       "      <td>paid</td>\n",
       "      <td>2020-10-07 20:37:13.589</td>\n",
       "      <td>2021-09-17 16:50:53.223</td>\n",
       "      <td>...</td>\n",
       "      <td>NaN</td>\n",
       "      <td>NaN</td>\n",
       "      <td>NaN</td>\n",
       "      <td>NaN</td>\n",
       "      <td>NaN</td>\n",
       "      <td>2020-10-07 17:37:13.589</td>\n",
       "      <td>17</td>\n",
       "      <td>2</td>\n",
       "      <td>Quarta</td>\n",
       "      <td>7</td>\n",
       "    </tr>\n",
       "    <tr>\n",
       "      <th>1</th>\n",
       "      <td>5f84a3c0b47b60001755f19c</td>\n",
       "      <td>done</td>\n",
       "      <td>178.0</td>\n",
       "      <td>160.2</td>\n",
       "      <td>[{'selectedVariation': {'color': {'name': 'Azu...</td>\n",
       "      <td>0</td>\n",
       "      <td>5f243b83736534001788d9a8</td>\n",
       "      <td>paid</td>\n",
       "      <td>2020-10-12 18:43:12.876</td>\n",
       "      <td>2021-09-17 16:50:53.223</td>\n",
       "      <td>...</td>\n",
       "      <td>INFANCIAENIKA</td>\n",
       "      <td>5caf95599eebb200176e2999</td>\n",
       "      <td>1780.0</td>\n",
       "      <td>NaN</td>\n",
       "      <td>NaN</td>\n",
       "      <td>2020-10-12 15:43:12.876</td>\n",
       "      <td>15</td>\n",
       "      <td>0</td>\n",
       "      <td>Segunda</td>\n",
       "      <td>12</td>\n",
       "    </tr>\n",
       "    <tr>\n",
       "      <th>2</th>\n",
       "      <td>5f9c7173c289e10017f914e7</td>\n",
       "      <td>done</td>\n",
       "      <td>196.0</td>\n",
       "      <td>196.0</td>\n",
       "      <td>[{'selectedVariation': {'color': {'hex': '#000...</td>\n",
       "      <td>0</td>\n",
       "      <td>5ea082b7e35e250017b25257</td>\n",
       "      <td>paid</td>\n",
       "      <td>2020-10-30 20:02:59.238</td>\n",
       "      <td>2021-09-17 16:50:53.224</td>\n",
       "      <td>...</td>\n",
       "      <td>NaN</td>\n",
       "      <td>NaN</td>\n",
       "      <td>NaN</td>\n",
       "      <td>NaN</td>\n",
       "      <td>NaN</td>\n",
       "      <td>2020-10-30 17:02:59.238</td>\n",
       "      <td>17</td>\n",
       "      <td>4</td>\n",
       "      <td>Sexta</td>\n",
       "      <td>30</td>\n",
       "    </tr>\n",
       "    <tr>\n",
       "      <th>3</th>\n",
       "      <td>5fa68aff7848ea001749824c</td>\n",
       "      <td>done</td>\n",
       "      <td>170.0</td>\n",
       "      <td>170.0</td>\n",
       "      <td>[{'selectedVariation': {'color': {'hex': '#000...</td>\n",
       "      <td>0</td>\n",
       "      <td>5e22282e36443600170723ab</td>\n",
       "      <td>paid</td>\n",
       "      <td>2020-11-07 11:54:39.737</td>\n",
       "      <td>2021-09-17 16:50:53.224</td>\n",
       "      <td>...</td>\n",
       "      <td>NaN</td>\n",
       "      <td>NaN</td>\n",
       "      <td>NaN</td>\n",
       "      <td>NaN</td>\n",
       "      <td>NaN</td>\n",
       "      <td>2020-11-07 08:54:39.737</td>\n",
       "      <td>8</td>\n",
       "      <td>5</td>\n",
       "      <td>Sábado</td>\n",
       "      <td>7</td>\n",
       "    </tr>\n",
       "    <tr>\n",
       "      <th>4</th>\n",
       "      <td>5f96f40689f4fa0017074848</td>\n",
       "      <td>done</td>\n",
       "      <td>178.0</td>\n",
       "      <td>178.0</td>\n",
       "      <td>[{'selectedVariation': {'color': {'name': 'Mar...</td>\n",
       "      <td>0</td>\n",
       "      <td>5efa75641e10ec001726c78d</td>\n",
       "      <td>paid</td>\n",
       "      <td>2020-10-26 16:06:30.227</td>\n",
       "      <td>2021-09-17 16:50:53.224</td>\n",
       "      <td>...</td>\n",
       "      <td>NaN</td>\n",
       "      <td>NaN</td>\n",
       "      <td>NaN</td>\n",
       "      <td>NaN</td>\n",
       "      <td>NaN</td>\n",
       "      <td>2020-10-26 13:06:30.227</td>\n",
       "      <td>13</td>\n",
       "      <td>0</td>\n",
       "      <td>Segunda</td>\n",
       "      <td>26</td>\n",
       "    </tr>\n",
       "  </tbody>\n",
       "</table>\n",
       "<p>5 rows × 24 columns</p>\n",
       "</div>"
      ],
      "text/plain": [
       "                        _id shippingStatus  subtotal  total  \\\n",
       "0  5f7e26f9ca1cb600176e5f01           done     242.0  242.0   \n",
       "1  5f84a3c0b47b60001755f19c           done     178.0  160.2   \n",
       "2  5f9c7173c289e10017f914e7           done     196.0  196.0   \n",
       "3  5fa68aff7848ea001749824c           done     170.0  170.0   \n",
       "4  5f96f40689f4fa0017074848           done     178.0  178.0   \n",
       "\n",
       "                                            products  shippingTotal  \\\n",
       "0  [{'selectedVariation': {'color': {'name': 'Pre...              0   \n",
       "1  [{'selectedVariation': {'color': {'name': 'Azu...              0   \n",
       "2  [{'selectedVariation': {'color': {'hex': '#000...              0   \n",
       "3  [{'selectedVariation': {'color': {'hex': '#000...              0   \n",
       "4  [{'selectedVariation': {'color': {'name': 'Mar...              0   \n",
       "\n",
       "                       user gatewayStatus                createdAt  \\\n",
       "0  5f10b182cdeda100176341bb          paid  2020-10-07 20:37:13.589   \n",
       "1  5f243b83736534001788d9a8          paid  2020-10-12 18:43:12.876   \n",
       "2  5ea082b7e35e250017b25257          paid  2020-10-30 20:02:59.238   \n",
       "3  5e22282e36443600170723ab          paid  2020-11-07 11:54:39.737   \n",
       "4  5efa75641e10ec001726c78d          paid  2020-10-26 16:06:30.227   \n",
       "\n",
       "                 updatedAt  ...    coupon.code             coupon.seller  \\\n",
       "0  2021-09-17 16:50:53.223  ...            NaN                       NaN   \n",
       "1  2021-09-17 16:50:53.223  ...  INFANCIAENIKA  5caf95599eebb200176e2999   \n",
       "2  2021-09-17 16:50:53.224  ...            NaN                       NaN   \n",
       "3  2021-09-17 16:50:53.224  ...            NaN                       NaN   \n",
       "4  2021-09-17 16:50:53.224  ...            NaN                       NaN   \n",
       "\n",
       "  coupon.discount coupon.couponType weather.main.temp  \\\n",
       "0             NaN               NaN               NaN   \n",
       "1          1780.0               NaN               NaN   \n",
       "2             NaN               NaN               NaN   \n",
       "3             NaN               NaN               NaN   \n",
       "4             NaN               NaN               NaN   \n",
       "\n",
       "        createdAt Timezone  Sale Hour weekday-number  weekday day_month  \n",
       "0  2020-10-07 17:37:13.589         17              2   Quarta         7  \n",
       "1  2020-10-12 15:43:12.876         15              0  Segunda        12  \n",
       "2  2020-10-30 17:02:59.238         17              4    Sexta        30  \n",
       "3  2020-11-07 08:54:39.737          8              5   Sábado         7  \n",
       "4  2020-10-26 13:06:30.227         13              0  Segunda        26  \n",
       "\n",
       "[5 rows x 24 columns]"
      ]
     },
     "execution_count": 7,
     "metadata": {},
     "output_type": "execute_result"
    }
   ],
   "source": [
    "df_orders.head()"
   ]
  },
  {
   "cell_type": "code",
   "execution_count": 8,
   "id": "9eb80dd6",
   "metadata": {},
   "outputs": [
    {
     "data": {
      "text/plain": [
       "Text(0, 0.5, 'Total do pedido em R$')"
      ]
     },
     "execution_count": 8,
     "metadata": {},
     "output_type": "execute_result"
    },
    {
     "data": {
      "image/png": "[encoded data removed]",
      "text/plain": [
       "<Figure size 720x720 with 1 Axes>"
      ]
     },
     "metadata": {
      "needs_background": "light"
     },
     "output_type": "display_data"
    }
   ],
   "source": [
    "boxplot = df_orders.boxplot(figsize=(10,10), column=['total'])\n",
    "boxplot.set_ylabel('Total do pedido em R$')"
   ]
  },
  {
   "cell_type": "code",
   "execution_count": 9,
   "id": "91ea0a39",
   "metadata": {},
   "outputs": [],
   "source": [
    "## Evolução dos Pedidos"
   ]
  },
  {
   "cell_type": "code",
   "execution_count": 10,
   "id": "30fb891d",
   "metadata": {},
   "outputs": [],
   "source": [
    "df_orders['createdAt'] = pd.to_datetime(df_orders['createdAt'])\n",
    "df_orders['updatedAt'] = pd.to_datetime(df_orders['updatedAt'])\n",
    "df_orders['createdAt Timezone'] = pd.to_datetime(df_orders['createdAt Timezone'])\n"
   ]
  },
  {
   "cell_type": "code",
   "execution_count": 11,
   "id": "785690c3",
   "metadata": {},
   "outputs": [],
   "source": [
    "df_orders.index = df_orders[\"createdAt\"]"
   ]
  },
  {
   "cell_type": "code",
   "execution_count": 12,
   "id": "ffa38187",
   "metadata": {},
   "outputs": [
    {
     "data": {
      "image/png": "[encoded data removed]",
      "text/plain": [
       "<Figure size 1440x720 with 1 Axes>"
      ]
     },
     "metadata": {
      "needs_background": "light"
     },
     "output_type": "display_data"
    }
   ],
   "source": [
    "plt.figure(figsize=(20,10))\n",
    "df_orders[\"total\"].sort_index().cumsum().plot()\n",
    "\n",
    "plt.title(\"Evolução Histórica Cumulativa das Vendas\")\n",
    "plt.ylabel('Valor Total de vendas Cumulativas (R$)')\n",
    "plt.xlabel('Ano-Mês')\n",
    "plt.show()"
   ]
  },
  {
   "cell_type": "code",
   "execution_count": 13,
   "id": "5fbf6215",
   "metadata": {},
   "outputs": [
    {
     "name": "stdout",
     "output_type": "stream",
     "text": [
      "<class 'pandas.core.frame.DataFrame'>\n",
      "DatetimeIndex: 2295 entries, 2020-10-07 20:37:13.589000 to 2023-01-07 13:59:33.974000\n",
      "Data columns (total 24 columns):\n",
      " #   Column                     Non-Null Count  Dtype         \n",
      "---  ------                     --------------  -----         \n",
      " 0   _id                        2295 non-null   object        \n",
      " 1   shippingStatus             2295 non-null   object        \n",
      " 2   subtotal                   2295 non-null   float64       \n",
      " 3   total                      2295 non-null   float64       \n",
      " 4   products                   2295 non-null   object        \n",
      " 5   shippingTotal              2295 non-null   int64         \n",
      " 6   user                       2295 non-null   object        \n",
      " 7   gatewayStatus              2295 non-null   object        \n",
      " 8   createdAt                  2295 non-null   datetime64[ns]\n",
      " 9   updatedAt                  2295 non-null   datetime64[ns]\n",
      " 10  shippingInfo.state         2295 non-null   object        \n",
      " 11  shippingInfo.city          2295 non-null   object        \n",
      " 12  shippingInfo.neighborhood  2295 non-null   object        \n",
      " 13  coupon._id                 1077 non-null   object        \n",
      " 14  coupon.code                1077 non-null   object        \n",
      " 15  coupon.seller              1077 non-null   object        \n",
      " 16  coupon.discount            1077 non-null   float64       \n",
      " 17  coupon.couponType          975 non-null    object        \n",
      " 18  weather.main.temp          1463 non-null   float64       \n",
      " 19  createdAt Timezone         2295 non-null   datetime64[ns]\n",
      " 20  Sale Hour                  2295 non-null   int64         \n",
      " 21  weekday-number             2295 non-null   int64         \n",
      " 22  weekday                    2295 non-null   object        \n",
      " 23  day_month                  2295 non-null   int64         \n",
      "dtypes: datetime64[ns](3), float64(4), int64(4), object(13)\n",
      "memory usage: 448.2+ KB\n"
     ]
    }
   ],
   "source": [
    "df_orders.info()"
   ]
  },
  {
   "cell_type": "code",
   "execution_count": 14,
   "id": "d48e4a8e",
   "metadata": {},
   "outputs": [],
   "source": [
    "df_orders[\"Month/Year\"] = df_orders[\"createdAt Timezone\"].dt.strftime(\"%Y/%m\")"
   ]
  },
  {
   "cell_type": "code",
   "execution_count": 15,
   "id": "75f4be98",
   "metadata": {},
   "outputs": [
    {
     "data": {
      "image/png": "[encoded data removed]",
      "text/plain": [
       "<Figure size 1440x720 with 1 Axes>"
      ]
     },
     "metadata": {
      "needs_background": "light"
     },
     "output_type": "display_data"
    }
   ],
   "source": [
    "mont_year_count = df_orders.groupby(\"Month/Year\").sum()\n",
    "# months = range(1,13)\n",
    "# hour_count = ordersFrame.groupby(\"Sale Hour\").count()\n",
    "# hour_count = ordersFrame.groupby(\"Sale Hour\").sum()\n",
    "\n",
    "# Generate data for plots \n",
    "# cities = df[\"City\"].unique()\n",
    "hours = [hour for hour, df1 in df_orders.groupby(\"Month/Year\")]\n",
    "\n",
    "# months2 = df[\"Month\"].unique()\n",
    "plt.figure(figsize=(20,10))\n",
    "plt.bar(hours, mont_year_count[\"total\"])\n",
    "plt.xticks(hours, rotation=\"vertical\")\n",
    "plt.ylabel('Vendas em R$')\n",
    "plt.xlabel('Ano / Mês')\n",
    "plt.title('Evolução das vendas receitas mensais')\n",
    "plt.grid()\n",
    "plt.show()"
   ]
  },
  {
   "cell_type": "code",
   "execution_count": 16,
   "id": "64c9364a",
   "metadata": {},
   "outputs": [
    {
     "data": {
      "image/png": "[encoded data removed]",
      "text/plain": [
       "<Figure size 720x432 with 1 Axes>"
      ]
     },
     "metadata": {
      "needs_background": "light"
     },
     "output_type": "display_data"
    }
   ],
   "source": [
    "hour_count = df_orders.groupby(\"Sale Hour\").sum()\n",
    "# months = range(1,13)\n",
    "# hour_count = ordersFrame.groupby(\"Sale Hour\").count()\n",
    "# hour_count = ordersFrame.groupby(\"Sale Hour\").sum()\n",
    "\n",
    "# Generate data for plots \n",
    "# cities = df[\"City\"].unique()\n",
    "hours = [hour for hour, df1 in df_orders.groupby(\"Sale Hour\")]\n",
    "\n",
    "# months2 = df[\"Month\"].unique()\n",
    "plt.figure(figsize=(10,6))\n",
    "plt.bar(hours, hour_count[\"total\"])\n",
    "plt.xticks(hours, rotation=\"vertical\")\n",
    "plt.ylabel('Vendas em R$')\n",
    "plt.xlabel('Horas do Dia')\n",
    "plt.title('Valores vendidos por hora do dia')\n",
    "plt.grid()\n",
    "plt.show()"
   ]
  },
  {
   "cell_type": "code",
   "execution_count": 17,
   "id": "95726335",
   "metadata": {},
   "outputs": [
    {
     "data": {
      "image/png": "[encoded data removed]",
      "text/plain": [
       "<Figure size 720x432 with 1 Axes>"
      ]
     },
     "metadata": {
      "needs_background": "light"
     },
     "output_type": "display_data"
    }
   ],
   "source": [
    "day_count = df_orders.groupby(\"weekday\").sum()\n",
    "day_count = day_count.reindex(index = ['Segunda', \"Terça\", \"Quarta\", \"Quinta\", \"Sexta\", \"Sábado\", \"Domingo\"])\n",
    "# day_count\n",
    "days = day_count.index\n",
    "# days = [weekday for weekday, df1 in ordersFrame.groupby(\"weekday\")]\n",
    "\n",
    "\n",
    "# months2 = df[\"Month\"].unique()\n",
    "plt.figure(figsize=(10,6))\n",
    "plt.bar(days, day_count[\"total\"])\n",
    "plt.xticks(days, rotation=\"vertical\")\n",
    "plt.ylabel('Vendas em R$')\n",
    "plt.xlabel('Dias da Semana')\n",
    "plt.title('Valores vendidos por dia da semana')\n",
    "plt.grid()\n",
    "plt.show()"
   ]
  },
  {
   "cell_type": "code",
   "execution_count": 18,
   "id": "c998f69c",
   "metadata": {},
   "outputs": [
    {
     "data": {
      "image/png": "[encoded data removed]",
      "text/plain": [
       "<Figure size 720x432 with 1 Axes>"
      ]
     },
     "metadata": {
      "needs_background": "light"
     },
     "output_type": "display_data"
    }
   ],
   "source": [
    "day_month_count = df_orders.groupby(\"day_month\").sum()\n",
    "days_month = [weekday for weekday, df1 in df_orders.groupby(\"day_month\")]\n",
    "\n",
    "# months2 = df[\"Month\"].unique()\n",
    "plt.figure(figsize=(10,6))\n",
    "plt.bar(days_month, day_month_count[\"total\"])\n",
    "plt.xticks(days_month, rotation=\"vertical\")\n",
    "plt.ylabel('Vendas em R$')\n",
    "plt.xlabel('Dias do Mês')\n",
    "plt.title('Valores vendidos por dia do mes')\n",
    "plt.grid()\n",
    "plt.show()"
   ]
  },
  {
   "cell_type": "code",
   "execution_count": 19,
   "id": "327dff53",
   "metadata": {},
   "outputs": [],
   "source": [
    "df_products = pd.read_csv('csv/anonymous_products.csv')"
   ]
  },
  {
   "cell_type": "code",
   "execution_count": 20,
   "id": "6d9db891",
   "metadata": {},
   "outputs": [
    {
     "data": {
      "text/plain": [
       "(3510, 18)"
      ]
     },
     "execution_count": 20,
     "metadata": {},
     "output_type": "execute_result"
    }
   ],
   "source": [
    "df_products.shape"
   ]
  },
  {
   "cell_type": "code",
   "execution_count": 21,
   "id": "4aafdcae",
   "metadata": {},
   "outputs": [],
   "source": [
    "df_products = df_products.drop(columns=['quantity'])"
   ]
  },
  {
   "cell_type": "code",
   "execution_count": 22,
   "id": "58654323",
   "metadata": {},
   "outputs": [],
   "source": [
    "df_products = df_products.drop(columns=['selectedVariation.tecidos.tecidosImages'])"
   ]
  },
  {
   "cell_type": "code",
   "execution_count": 23,
   "id": "e3b829ae",
   "metadata": {},
   "outputs": [],
   "source": [
    "df_products = df_products.drop(columns=['selectedVariation.stockTecidos'])"
   ]
  },
  {
   "cell_type": "code",
   "execution_count": 24,
   "id": "b87f4cbc",
   "metadata": {},
   "outputs": [],
   "source": [
    "df_products = df_products.drop(columns=['associatedProduct'])"
   ]
  },
  {
   "cell_type": "code",
   "execution_count": 25,
   "id": "78abdfd0",
   "metadata": {},
   "outputs": [],
   "source": [
    "df_products = df_products.drop(columns=['selectedVariation.images'])"
   ]
  },
  {
   "cell_type": "code",
   "execution_count": 26,
   "id": "b145fa00",
   "metadata": {},
   "outputs": [
    {
     "data": {
      "text/html": [
       "<div>\n",
       "<style scoped>\n",
       "    .dataframe tbody tr th:only-of-type {\n",
       "        vertical-align: middle;\n",
       "    }\n",
       "\n",
       "    .dataframe tbody tr th {\n",
       "        vertical-align: top;\n",
       "    }\n",
       "\n",
       "    .dataframe thead th {\n",
       "        text-align: right;\n",
       "    }\n",
       "</style>\n",
       "<table border=\"1\" class=\"dataframe\">\n",
       "  <thead>\n",
       "    <tr style=\"text-align: right;\">\n",
       "      <th></th>\n",
       "      <th>Unnamed: 0</th>\n",
       "      <th>slug</th>\n",
       "      <th>_id</th>\n",
       "      <th>name</th>\n",
       "      <th>price</th>\n",
       "      <th>sellerId</th>\n",
       "      <th>selectedVariation.color.name</th>\n",
       "      <th>selectedVariation.color.hex</th>\n",
       "      <th>selectedVariation._id</th>\n",
       "      <th>selectedVariation.size</th>\n",
       "      <th>selectedVariation.tecidos._id</th>\n",
       "      <th>selectedVariation.tecidos.name</th>\n",
       "      <th>createdAt</th>\n",
       "    </tr>\n",
       "  </thead>\n",
       "  <tbody>\n",
       "    <tr>\n",
       "      <th>3505</th>\n",
       "      <td>3505</td>\n",
       "      <td>vestido-macaquinho-viscose</td>\n",
       "      <td>61a60ee569e2ca001866dccd</td>\n",
       "      <td>Vestido Macaquinho Viscose</td>\n",
       "      <td>23700</td>\n",
       "      <td>5caf95599eebb200176e2999</td>\n",
       "      <td>Coral</td>\n",
       "      <td>#FFBD9D</td>\n",
       "      <td>63b58740be233400160fff43</td>\n",
       "      <td>GG</td>\n",
       "      <td>62fa751f70cb9e0016f9dc05</td>\n",
       "      <td>Viscose Coral</td>\n",
       "      <td>2023-01-06 17:40:52.597000+00:00</td>\n",
       "    </tr>\n",
       "    <tr>\n",
       "      <th>3506</th>\n",
       "      <td>3506</td>\n",
       "      <td>calca-comphy-linho</td>\n",
       "      <td>5e1f0f00d0ae4900176fb3d4</td>\n",
       "      <td>Calça Comphy Linho</td>\n",
       "      <td>19800</td>\n",
       "      <td>5caf95599eebb200176e2999</td>\n",
       "      <td>Natural</td>\n",
       "      <td>#DCD2BE</td>\n",
       "      <td>62190f3cfd596100184158a3</td>\n",
       "      <td>PP</td>\n",
       "      <td>5fc7ab23588c8d00175e065a</td>\n",
       "      <td>Linho Natural</td>\n",
       "      <td>2023-01-07 01:16:48.321000+00:00</td>\n",
       "    </tr>\n",
       "    <tr>\n",
       "      <th>3507</th>\n",
       "      <td>3507</td>\n",
       "      <td>macacao-meka</td>\n",
       "      <td>6197ec077f95950018234fd1</td>\n",
       "      <td>Macacão Meka</td>\n",
       "      <td>31900</td>\n",
       "      <td>5caf95599eebb200176e2999</td>\n",
       "      <td>Preto</td>\n",
       "      <td>#000000</td>\n",
       "      <td>619d1421dffc3a0018a7d84c</td>\n",
       "      <td>PP</td>\n",
       "      <td>5fca3d2de8b93400179d1c95</td>\n",
       "      <td>Linho Preto</td>\n",
       "      <td>2023-01-07 01:16:48.321000+00:00</td>\n",
       "    </tr>\n",
       "    <tr>\n",
       "      <th>3508</th>\n",
       "      <td>3508</td>\n",
       "      <td>macacao-chiara-em-linho</td>\n",
       "      <td>614c6565b7ba7700185f4bab</td>\n",
       "      <td>Macacão Chiara em Linho</td>\n",
       "      <td>25800</td>\n",
       "      <td>5caf95599eebb200176e2999</td>\n",
       "      <td>Branco</td>\n",
       "      <td>#E8E8E8</td>\n",
       "      <td>618d87572a50430018e2bd4e</td>\n",
       "      <td>PP</td>\n",
       "      <td>5fc7abfc588c8d00175e065b</td>\n",
       "      <td>Linho Branco</td>\n",
       "      <td>2023-01-07 01:16:48.321000+00:00</td>\n",
       "    </tr>\n",
       "    <tr>\n",
       "      <th>3509</th>\n",
       "      <td>3509</td>\n",
       "      <td>macacao-lua</td>\n",
       "      <td>633b29e59b08d3001605b1c7</td>\n",
       "      <td>Macacão Lua</td>\n",
       "      <td>19800</td>\n",
       "      <td>5caf95599eebb200176e2999</td>\n",
       "      <td>Estampa folhagem barrado</td>\n",
       "      <td>#538247</td>\n",
       "      <td>633b29e59b08d3001605b1c8</td>\n",
       "      <td>P</td>\n",
       "      <td>6303a7b8991e430016a8d872</td>\n",
       "      <td>Viscose Estampa Folhagem Barrado</td>\n",
       "      <td>2023-01-07 13:59:33.974000+00:00</td>\n",
       "    </tr>\n",
       "  </tbody>\n",
       "</table>\n",
       "</div>"
      ],
      "text/plain": [
       "      Unnamed: 0                        slug                       _id  \\\n",
       "3505        3505  vestido-macaquinho-viscose  61a60ee569e2ca001866dccd   \n",
       "3506        3506          calca-comphy-linho  5e1f0f00d0ae4900176fb3d4   \n",
       "3507        3507                macacao-meka  6197ec077f95950018234fd1   \n",
       "3508        3508     macacao-chiara-em-linho  614c6565b7ba7700185f4bab   \n",
       "3509        3509                 macacao-lua  633b29e59b08d3001605b1c7   \n",
       "\n",
       "                            name  price                  sellerId  \\\n",
       "3505  Vestido Macaquinho Viscose  23700  5caf95599eebb200176e2999   \n",
       "3506          Calça Comphy Linho  19800  5caf95599eebb200176e2999   \n",
       "3507               Macacão Meka   31900  5caf95599eebb200176e2999   \n",
       "3508     Macacão Chiara em Linho  25800  5caf95599eebb200176e2999   \n",
       "3509                 Macacão Lua  19800  5caf95599eebb200176e2999   \n",
       "\n",
       "     selectedVariation.color.name selectedVariation.color.hex  \\\n",
       "3505                        Coral                     #FFBD9D   \n",
       "3506                      Natural                     #DCD2BE   \n",
       "3507                        Preto                     #000000   \n",
       "3508                       Branco                     #E8E8E8   \n",
       "3509     Estampa folhagem barrado                     #538247   \n",
       "\n",
       "         selectedVariation._id selectedVariation.size  \\\n",
       "3505  63b58740be233400160fff43                     GG   \n",
       "3506  62190f3cfd596100184158a3                     PP   \n",
       "3507  619d1421dffc3a0018a7d84c                     PP   \n",
       "3508  618d87572a50430018e2bd4e                     PP   \n",
       "3509  633b29e59b08d3001605b1c8                      P   \n",
       "\n",
       "     selectedVariation.tecidos._id    selectedVariation.tecidos.name  \\\n",
       "3505      62fa751f70cb9e0016f9dc05                     Viscose Coral   \n",
       "3506      5fc7ab23588c8d00175e065a                     Linho Natural   \n",
       "3507      5fca3d2de8b93400179d1c95                       Linho Preto   \n",
       "3508      5fc7abfc588c8d00175e065b                      Linho Branco   \n",
       "3509      6303a7b8991e430016a8d872  Viscose Estampa Folhagem Barrado   \n",
       "\n",
       "                             createdAt  \n",
       "3505  2023-01-06 17:40:52.597000+00:00  \n",
       "3506  2023-01-07 01:16:48.321000+00:00  \n",
       "3507  2023-01-07 01:16:48.321000+00:00  \n",
       "3508  2023-01-07 01:16:48.321000+00:00  \n",
       "3509  2023-01-07 13:59:33.974000+00:00  "
      ]
     },
     "execution_count": 26,
     "metadata": {},
     "output_type": "execute_result"
    }
   ],
   "source": [
    "df_products.tail()"
   ]
  },
  {
   "cell_type": "code",
   "execution_count": 27,
   "id": "5860458e",
   "metadata": {},
   "outputs": [
    {
     "name": "stdout",
     "output_type": "stream",
     "text": [
      "<class 'pandas.core.frame.DataFrame'>\n",
      "RangeIndex: 3510 entries, 0 to 3509\n",
      "Data columns (total 13 columns):\n",
      " #   Column                          Non-Null Count  Dtype \n",
      "---  ------                          --------------  ----- \n",
      " 0   Unnamed: 0                      3510 non-null   int64 \n",
      " 1   slug                            3510 non-null   object\n",
      " 2   _id                             3510 non-null   object\n",
      " 3   name                            3510 non-null   object\n",
      " 4   price                           3510 non-null   int64 \n",
      " 5   sellerId                        3505 non-null   object\n",
      " 6   selectedVariation.color.name    3510 non-null   object\n",
      " 7   selectedVariation.color.hex     3510 non-null   object\n",
      " 8   selectedVariation._id           3510 non-null   object\n",
      " 9   selectedVariation.size          3510 non-null   object\n",
      " 10  selectedVariation.tecidos._id   1503 non-null   object\n",
      " 11  selectedVariation.tecidos.name  1439 non-null   object\n",
      " 12  createdAt                       3510 non-null   object\n",
      "dtypes: int64(2), object(11)\n",
      "memory usage: 356.6+ KB\n"
     ]
    }
   ],
   "source": [
    "df_products.info()"
   ]
  },
  {
   "cell_type": "code",
   "execution_count": 28,
   "id": "cc001f04",
   "metadata": {},
   "outputs": [],
   "source": [
    "df_products['selectedVariation.color.name'] = df_products['selectedVariation.color.name'].str.lower()"
   ]
  },
  {
   "cell_type": "code",
   "execution_count": 29,
   "id": "6d1b939c",
   "metadata": {},
   "outputs": [
    {
     "data": {
      "image/png": "[encoded data removed]",
      "text/plain": [
       "<Figure size 720x360 with 1 Axes>"
      ]
     },
     "metadata": {
      "needs_background": "light"
     },
     "output_type": "display_data"
    }
   ],
   "source": [
    "color_values_sold = df_products['selectedVariation.color.name'].value_counts()\n",
    "color_values_sold = color_values_sold.where(color_values_sold > 40).dropna()\n",
    "color_values_sold = color_values_sold.convert_dtypes()\n",
    "color_values_sold\n",
    "\n",
    "color_sold = color_values_sold.keys()\n",
    "\n",
    "plt.figure(figsize=(10,5))\n",
    "plt.bar(color_sold, color_values_sold)\n",
    "plt.xticks(color_sold, rotation=\"vertical\")\n",
    "plt.ylabel('Quantidade Produtos Vendidos')\n",
    "plt.xlabel('Cores Principais')\n",
    "plt.title('Quantidade de produtos vendidos')\n",
    "plt.show()"
   ]
  },
  {
   "cell_type": "code",
   "execution_count": null,
   "id": "3f89c535",
   "metadata": {},
   "outputs": [],
   "source": []
  }
 ],
 "metadata": {
  "kernelspec": {
   "display_name": "Python 3",
   "language": "python",
   "name": "python3"
  },
  "language_info": {
   "codemirror_mode": {
    "name": "ipython",
    "version": 3
   },
   "file_extension": ".py",
   "mimetype": "text/x-python",
   "name": "python",
   "nbconvert_exporter": "python",
   "pygments_lexer": "ipython3",
   "version": "3.8.5"
  }
 },
 "nbformat": 4,
 "nbformat_minor": 5
}
